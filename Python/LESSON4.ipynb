{
 "cells": [
  {
   "cell_type": "markdown",
   "metadata": {},
   "source": [
    "#операторы  + - * / \n",
    "# деление без остатка //\n",
    "# деление по модулю %\n",
    "# возведение в степерь **\n",
    "# Tru folse булевые\n",
    "# таблица истиности \n",
    "\n"
   ]
  },
  {
   "cell_type": "code",
   "execution_count": null,
   "metadata": {},
   "outputs": [
    {
     "ename": "",
     "evalue": "",
     "output_type": "error",
     "traceback": [
      "\u001b[1;31mThe kernel failed to start as '_psutil_linux' could not be imported from 'most likely due to a circular import'.\n",
      "\u001b[1;31mClick <a href='https://aka.ms/kernelFailuresModuleImportErrFromFile'>here</a> for more info."
     ]
    }
   ],
   "source": [
    " True and True # \n",
    " True and False# коньюкция логическое И\n",
    "True or False # Дизьюнция логиче ИЛИ ,  ленивый оператор это первый оператор истена при логическом oR интрепритор сразу будует выводить True\n",
    " not True\n",
    " # 0 это False\n",
    " # 1 это True"
   ]
  },
  {
   "cell_type": "code",
   "execution_count": 5,
   "metadata": {},
   "outputs": [
    {
     "data": {
      "text/plain": [
       "-1"
      ]
     },
     "execution_count": 5,
     "metadata": {},
     "output_type": "execute_result"
    }
   ],
   "source": [
    "True +  True #  преобразовавание типов БУЛЕВОЕ в числовое \n",
    "True * 5 # тайпккастинг в число \n",
    "False - 1 # -1\n"
   ]
  },
  {
   "cell_type": "code",
   "execution_count": 7,
   "metadata": {},
   "outputs": [
    {
     "data": {
      "text/plain": [
       "True"
      ]
     },
     "execution_count": 7,
     "metadata": {},
     "output_type": "execute_result"
    }
   ],
   "source": [
    "#оператор сравнения\n",
    "0 == False # TRue преобразуется в булевое значение False\n",
    "1 == True # True\n",
    "2 == True # приобразование типов в числовое \n",
    "3 != False # True \n"
   ]
  },
  {
   "cell_type": "code",
   "execution_count": 1,
   "metadata": {},
   "outputs": [
    {
     "name": "stdout",
     "output_type": "stream",
     "text": [
      "0\n"
     ]
    },
    {
     "data": {
      "text/plain": [
       "1"
      ]
     },
     "execution_count": 1,
     "metadata": {},
     "output_type": "execute_result"
    }
   ],
   "source": [
    "bool(\"\")#False операция тайпкастинг в булевый тип\n",
    "bool(\" \") # True \n",
    "bool(0)# False\n",
    "bool(1)#True все что кроме нуля это True \n",
    "bool(-1)#\n",
    "print(0 and 5) \n",
    "1 != 1 #False\n",
    "1"
   ]
  },
  {
   "cell_type": "code",
   "execution_count": 2,
   "metadata": {},
   "outputs": [
    {
     "data": {
      "text/plain": [
       "False"
      ]
     },
     "execution_count": 2,
     "metadata": {},
     "output_type": "execute_result"
    }
   ],
   "source": [
    "1 < 2 and 2 < 3 \n",
    "1 < 2 < 3\n",
    "list_: list= [*range(1,5)]# операция присвоения создает ссылку на объект, когда  коолличесьво ссылок на объект нуль пригоходит гарбишьколектор(очистка мусора), уничтожает объект, высвобождая память, питон динамически типизированный интерпритатор тратит время на считывание типа переменной\n",
    "# ускорит работу питора интерпритатор PYPY\n",
    "list_\n",
    "list_copy = list_# колличество ссссылок на объект 2  \n",
    "list_copy is list_ # сравнивает не иквивалент а сравнивает объекты в памяти если они находятся в однйо области памяти(ячейки), ссылкется на один объект\n",
    "x = 257 # диапазон от - 5 до 256\n",
    "y = 257 #   \n",
    "x is y # True"
   ]
  }
 ],
 "metadata": {
  "kernelspec": {
   "display_name": "venv",
   "language": "python",
   "name": "python3"
  },
  "language_info": {
   "codemirror_mode": {
    "name": "ipython",
    "version": 3
   },
   "file_extension": ".py",
   "mimetype": "text/x-python",
   "name": "python",
   "nbconvert_exporter": "python",
   "pygments_lexer": "ipython3",
   "version": "3.11.0"
  },
  "orig_nbformat": 4
 },
 "nbformat": 4,
 "nbformat_minor": 2
}
