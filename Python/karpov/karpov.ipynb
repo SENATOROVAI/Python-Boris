{
 "cells": [
  {
   "cell_type": "code",
   "execution_count": 5,
   "metadata": {},
   "outputs": [
    {
     "name": "stdout",
     "output_type": "stream",
     "text": [
      "14\n"
     ]
    }
   ],
   "source": [
    "Посчитайте, через сколько лет отец будет вдвое старше сына\n",
    "father_age = 20#  отец\n",
    "son_age = 3#  сын\n",
    "result = father_age - (2 * son_age)\n",
    "result#ерез сколько лет отец будет вдвое старше сына"
   ]
  },
  {
   "cell_type": "code",
   "execution_count": 2,
   "metadata": {},
   "outputs": [
    {
     "data": {
      "text/plain": [
       "4046132"
      ]
     },
     "execution_count": 2,
     "metadata": {},
     "output_type": "execute_result"
    }
   ],
   "source": [
    "(2012-1)*2012\n"
   ]
  },
  {
   "cell_type": "code",
   "execution_count": null,
   "metadata": {},
   "outputs": [],
   "source": [
    "#В переменную n сохранено целое число — количество секунд. Напишите программу, \n",
    "#которая конвертирует заданное количество секунд n в часы,минуты и секунды. \n",
    "#Результат сохраните в переменные hours, minutes, seconds.\n",
    "n = 125\n",
    "hours = n // 3600  # количество часов (целая часть от деления на 3600)\n",
    "minutes = (n % 3600) // 60  # количество минут (остаток от деления на 3600, деленное на 60)\n",
    "seconds = n % 60 # количество секунд (остаток от деления на 60)\n"
   ]
  },
  {
   "cell_type": "code",
   "execution_count": 3,
   "metadata": {},
   "outputs": [
    {
     "ename": "ValueError",
     "evalue": "not enough values to unpack (expected 2, got 0)",
     "output_type": "error",
     "traceback": [
      "\u001b[0;31m---------------------------------------------------------------------------\u001b[0m",
      "\u001b[0;31mValueError\u001b[0m                                Traceback (most recent call last)",
      "Cell \u001b[0;32mIn[3], line 1\u001b[0m\n\u001b[0;32m----> 1\u001b[0m P, Q \u001b[39m=\u001b[39m \u001b[39mmap\u001b[39m(\u001b[39mint\u001b[39m, \u001b[39minput\u001b[39m()\u001b[39m.\u001b[39msplit())\n\u001b[1;32m      3\u001b[0m \u001b[39m# Calculate the total number of 2x1 squares on the board\u001b[39;00m\n\u001b[1;32m      4\u001b[0m total_squares \u001b[39m=\u001b[39m P \u001b[39m*\u001b[39m Q\n",
      "\u001b[0;31mValueError\u001b[0m: not enough values to unpack (expected 2, got 0)"
     ]
    }
   ],
   "source": [
    "P, Q = map(int, input().split())\n",
    " \n",
    "# Calculate the total number of 2x1 squares on the board\n",
    "total_squares = P * Q\n",
    " \n",
    "# Calculate the maximum number of dominoes that can be placed\n",
    "max_dominoes = total_squares // 2\n",
    " \n",
    "# Print the maximum number of dominoes\n",
    "print(max_dominoes) "
   ]
  }
 ],
 "metadata": {
  "kernelspec": {
   "display_name": ".venv",
   "language": "python",
   "name": "python3"
  },
  "language_info": {
   "codemirror_mode": {
    "name": "ipython",
    "version": 3
   },
   "file_extension": ".py",
   "mimetype": "text/x-python",
   "name": "python",
   "nbconvert_exporter": "python",
   "pygments_lexer": "ipython3",
   "version": "3.11.0rc1"
  },
  "orig_nbformat": 4
 },
 "nbformat": 4,
 "nbformat_minor": 2
}
