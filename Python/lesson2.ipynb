{
 "cells": [
  {
   "cell_type": "markdown",
   "metadata": {},
   "source": [
    "### !pip freeze - для провреки пакетов\n",
    "### !pip install flake8-variables-names\n",
    "### !pip install flake8-functions-names\n",
    "### !pip install flake8-builtins\n",
    "### !pip install flake8-bugbear\n",
    "### !pip install pep8-naming\n",
    "### установка flake8 "
   ]
  },
  {
   "cell_type": "markdown",
   "metadata": {},
   "source": [
    " линтер- интрумент  анализща исходного кода который использщуется ошибьок и не соответстваия стилю кодирования\n",
    " flake8-линтер \n",
    " black(шифт+альт+F) -  интсрумент автофаорматирования кода по линтеру \n",
    " \n",
    "  "
   ]
  },
  {
   "cell_type": "markdown",
   "metadata": {},
   "source": [
    "разаработка начинается с созданиния виртуального окружения \n",
    "для создания вертуальнокго окружения нам нужно использовать команду \n",
    "### python -m venv venv \n",
    "активация: \n",
    "### venv\\sc+tab\\a+tab\n",
    "виртуальное оркужение это обособелная aсреда где крутитсья питон \n",
    " \n",
    " \n",
    "### для того чтоб выгрузить зависимотси проекта в файл мы используем команду: \n",
    "### pip freeze > requirements.txt\n",
    "эту команду использую когда отдаю проект \n",
    "как происходит установка зависимости \n",
    "### pip install -r requirements.txt"
   ]
  },
  {
   "cell_type": "code",
   "execution_count": null,
   "metadata": {},
   "outputs": [
    {
     "ename": "",
     "evalue": "",
     "output_type": "error",
     "traceback": [
      "\u001b[1;31mThe kernel failed to start as '_psutil_linux' could not be imported from 'most likely due to a circular import'.\n",
      "\u001b[1;31mClick <a href='https://aka.ms/kernelFailuresModuleImportErrFromFile'>here</a> for more info."
     ]
    }
   ],
   "source": [
    "!pip install -r requirements.txt\n"
   ]
  },
  {
   "cell_type": "code",
   "execution_count": null,
   "metadata": {},
   "outputs": [
    {
     "ename": "",
     "evalue": "",
     "output_type": "error",
     "traceback": [
      "\u001b[1;31mThe kernel failed to start as '_psutil_linux' could not be imported from 'most likely due to a circular import'.\n",
      "\u001b[1;31mClick <a href='https://aka.ms/kernelFailuresModuleImportErrFromFile'>here</a> for more info."
     ]
    }
   ],
   "source": [
    "!pip freeze"
   ]
  },
  {
   "cell_type": "markdown",
   "metadata": {},
   "source": []
  },
  {
   "cell_type": "code",
   "execution_count": null,
   "metadata": {},
   "outputs": [
    {
     "ename": "",
     "evalue": "",
     "output_type": "error",
     "traceback": [
      "\u001b[1;31mThe kernel failed to start as '_psutil_linux' could not be imported from 'most likely due to a circular import'.\n",
      "\u001b[1;31mClick <a href='https://aka.ms/kernelFailuresModuleImportErrFromFile'>here</a> for more info."
     ]
    }
   ],
   "source": [
    "11111010₂ = (-1) × 2^7 + 1 × 2^6 + 1 × 2^5 + 1 × 2^4 + 1 × 2^3 + 0 × 2^2 + 1 × 2^1 + 0 × 2^0\n",
    "          = -128 + 64 + 32 + 16 + 8 + 0 + 2 + 0\n",
    "          = -6\n"
   ]
  },
  {
   "cell_type": "code",
   "execution_count": null,
   "metadata": {},
   "outputs": [
    {
     "ename": "",
     "evalue": "",
     "output_type": "error",
     "traceback": [
      "\u001b[1;31mThe kernel failed to start as '_psutil_linux' could not be imported from 'most likely due to a circular import'.\n",
      "\u001b[1;31mClick <a href='https://aka.ms/kernelFailuresModuleImportErrFromFile'>here</a> for more info."
     ]
    }
   ],
   "source": [
    "КОММИТ ОТДАЙ! ЖУРНАЛ ЗАПОЛНИ"
   ]
  }
 ],
 "metadata": {
  "kernelspec": {
   "display_name": "Python 3",
   "language": "python",
   "name": "python3"
  },
  "language_info": {
   "codemirror_mode": {
    "name": "ipython",
    "version": 3
   },
   "file_extension": ".py",
   "mimetype": "text/x-python",
   "name": "python",
   "nbconvert_exporter": "python",
   "pygments_lexer": "ipython3",
   "version": "3.11.0"
  },
  "orig_nbformat": 4
 },
 "nbformat": 4,
 "nbformat_minor": 2
}
