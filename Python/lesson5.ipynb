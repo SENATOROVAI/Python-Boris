{
 "cells": [
  {
   "cell_type": "code",
   "execution_count": 3,
   "metadata": {},
   "outputs": [
    {
     "data": {
      "text/plain": [
       "True"
      ]
     },
     "execution_count": 3,
     "metadata": {},
     "output_type": "execute_result"
    }
   ],
   "source": [
    "print(2)#залазить под капот с помощью контрал\n",
    "bool(\" \")# пустой фалсе если есть что то фалсе\n",
    "сложение трок конкатанация(\"папап\" + \"фаываыва\")\n",
    " умножение строк репликация(\"ываыва\" * 3)\n",
    " dir(string) показывает атрибуты объекта (свойства и методы)\n",
    " вызов функции ()-скобки\n",
    "  в пайтон удобнее делать отладку когда смотришь на объект num: int = 2"
   ]
  }
 ],
 "metadata": {
  "kernelspec": {
   "display_name": ".venv",
   "language": "python",
   "name": "python3"
  },
  "language_info": {
   "codemirror_mode": {
    "name": "ipython",
    "version": 3
   },
   "file_extension": ".py",
   "mimetype": "text/x-python",
   "name": "python",
   "nbconvert_exporter": "python",
   "pygments_lexer": "ipython3",
   "version": "3.11.0rc1"
  },
  "orig_nbformat": 4
 },
 "nbformat": 4,
 "nbformat_minor": 2
}
