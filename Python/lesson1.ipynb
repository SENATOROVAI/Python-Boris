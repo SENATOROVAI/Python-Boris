{
 "cells": [
  {
   "cell_type": "markdown",
   "metadata": {},
   "source": [
    "  клолнирование репазитория  это скачивание репозитория на локальный хост (на пк)\n",
    "  Fork- клонироване чужого репозитория в свой личный аккаунтм, для возможности измениния и  дальнейшего  Pull requests\n",
    "  Pull requests - это процедура  переноса измениния из своего личного личного репозитория в тот репазиторий который форкнули, для того чтоб сделать   Pull requests нужно внести измениния в форкнутый репазиторий"
   ]
  },
  {
   "cell_type": "code",
   "execution_count": null,
   "metadata": {},
   "outputs": [
    {
     "ename": "",
     "evalue": "",
     "output_type": "error",
     "traceback": [
      "\u001b[1;31mThe kernel failed to start as '_psutil_linux' could not be imported from 'most likely due to a circular import'.\n",
      "\u001b[1;31mClick <a href='https://aka.ms/kernelFailuresModuleImportErrFromFile'>here</a> for more info."
     ]
    }
   ],
   "source": [
    "a = 5\n",
    "print(a+1)"
   ]
  },
  {
   "cell_type": "code",
   "execution_count": null,
   "metadata": {},
   "outputs": [],
   "source": []
  }
 ],
 "metadata": {
  "kernelspec": {
   "display_name": "Python 3",
   "language": "python",
   "name": "python3"
  },
  "language_info": {
   "codemirror_mode": {
    "name": "ipython",
    "version": 3
   },
   "file_extension": ".py",
   "mimetype": "text/x-python",
   "name": "python",
   "nbconvert_exporter": "python",
   "pygments_lexer": "ipython3",
   "version": "3.11.0"
  },
  "orig_nbformat": 4
 },
 "nbformat": 4,
 "nbformat_minor": 2
}
