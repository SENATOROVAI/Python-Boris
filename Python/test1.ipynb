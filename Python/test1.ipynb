{
 "cells": [
  {
   "cell_type": "code",
   "execution_count": 5,
   "metadata": {},
   "outputs": [
    {
     "name": "stdout",
     "output_type": "stream",
     "text": [
      "14\n"
     ]
    }
   ],
   "source": [
    "Посчитайте, через сколько лет отец будет вдвое старше сына\n",
    "father_age = 20#  отец\n",
    "son_age = 3#  сын\n",
    "result = father_age - (2 * son_age)\n",
    "result#ерез сколько лет отец будет вдвое старше сына"
   ]
  },
  {
   "cell_type": "code",
   "execution_count": 21,
   "metadata": {},
   "outputs": [
    {
     "data": {
      "text/plain": [
       "6.0"
      ]
     },
     "execution_count": 21,
     "metadata": {},
     "output_type": "execute_result"
    }
   ],
   "source": [
    "#Вычислите периметр и площадь треугольника\n",
    "a = 3\n",
    "b = 4\n",
    "c = 5\n",
    "area = (a + b + c) # площадь\n",
    "s = (a + b + c) / 2 # полупериметр\n",
    "area = (s * (s - a) * (s - b) * (s - c)) ** 0.5 №# периметр\n",
    "perimeter \n",
    "area \n"
   ]
  },
  {
   "cell_type": "code",
   "execution_count": null,
   "metadata": {},
   "outputs": [],
   "source": [
    "#В переменную n сохранено целое число — количество секунд. Напишите программу, \n",
    "#которая конвертирует заданное количество секунд n в часы,минуты и секунды. \n",
    "#Результат сохраните в переменные hours, minutes, seconds.\n",
    "n = 125\n",
    "hours = n // 3600  # количество часов (целая часть от деления на 3600)\n",
    "minutes = (n % 3600) // 60  # количество минут (остаток от деления на 3600, деленное на 60)\n",
    "seconds = n % 60 # количество секунд (остаток от деления на 60)\n"
   ]
  },
  {
   "cell_type": "code",
   "execution_count": 28,
   "metadata": {},
   "outputs": [
    {
     "ename": "NameError",
     "evalue": "name 'resultd' is not defined",
     "output_type": "error",
     "traceback": [
      "\u001b[0;31m---------------------------------------------------------------------------\u001b[0m",
      "\u001b[0;31mNameError\u001b[0m                                 Traceback (most recent call last)",
      "Cell \u001b[0;32mIn[28], line 4\u001b[0m\n\u001b[1;32m      2\u001b[0m price_old \u001b[39m=\u001b[39m \u001b[39m75.50\u001b[39m\n\u001b[1;32m      3\u001b[0m result \u001b[39m=\u001b[39m price_old\u001b[39m-\u001b[39mprice_new\n\u001b[0;32m----> 4\u001b[0m \u001b[39mprint\u001b[39m(resultd)\n",
      "\u001b[0;31mNameError\u001b[0m: name 'resultd' is not defined"
     ]
    }
   ],
   "source": [
    "price_new = 89.99 \n",
    "price_old = 75.50\n",
    "# Вычисление изменения цены в процентах по модулю\n",
    "result = abs((price_new - price_old) / price_old) * 100#  через abs\n",
    "# Округление результата до двух знаков после запятой\n",
    "result = round(result, 2)#  округление по 2 знаку"
   ]
  }
 ],
 "metadata": {
  "kernelspec": {
   "display_name": ".venv",
   "language": "python",
   "name": "python3"
  },
  "language_info": {
   "codemirror_mode": {
    "name": "ipython",
    "version": 3
   },
   "file_extension": ".py",
   "mimetype": "text/x-python",
   "name": "python",
   "nbconvert_exporter": "python",
   "pygments_lexer": "ipython3",
   "version": "3.11.0"
  },
  "orig_nbformat": 4
 },
 "nbformat": 4,
 "nbformat_minor": 2
}
